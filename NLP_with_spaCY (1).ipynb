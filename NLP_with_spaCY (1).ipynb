{
  "nbformat": 4,
  "nbformat_minor": 0,
  "metadata": {
    "colab": {
      "provenance": []
    },
    "kernelspec": {
      "name": "python3",
      "display_name": "Python 3"
    },
    "language_info": {
      "name": "python"
    }
  },
  "cells": [
    {
      "cell_type": "markdown",
      "source": [
        "Step 1: Install Required Libraries"
      ],
      "metadata": {
        "id": "K2CrLcHotLAO"
      }
    },
    {
      "cell_type": "code",
      "execution_count": null,
      "metadata": {
        "colab": {
          "base_uri": "https://localhost:8080/"
        },
        "id": "SKlEYIWdlPM0",
        "outputId": "6b941823-d2b0-47f2-a3cc-9e3c3377f295"
      },
      "outputs": [
        {
          "output_type": "stream",
          "name": "stdout",
          "text": [
            "Requirement already satisfied: spacy in /usr/local/lib/python3.11/dist-packages (3.8.7)\n",
            "Requirement already satisfied: spacy-legacy<3.1.0,>=3.0.11 in /usr/local/lib/python3.11/dist-packages (from spacy) (3.0.12)\n",
            "Requirement already satisfied: spacy-loggers<2.0.0,>=1.0.0 in /usr/local/lib/python3.11/dist-packages (from spacy) (1.0.5)\n",
            "Requirement already satisfied: murmurhash<1.1.0,>=0.28.0 in /usr/local/lib/python3.11/dist-packages (from spacy) (1.0.13)\n",
            "Requirement already satisfied: cymem<2.1.0,>=2.0.2 in /usr/local/lib/python3.11/dist-packages (from spacy) (2.0.11)\n",
            "Requirement already satisfied: preshed<3.1.0,>=3.0.2 in /usr/local/lib/python3.11/dist-packages (from spacy) (3.0.10)\n",
            "Requirement already satisfied: thinc<8.4.0,>=8.3.4 in /usr/local/lib/python3.11/dist-packages (from spacy) (8.3.6)\n",
            "Requirement already satisfied: wasabi<1.2.0,>=0.9.1 in /usr/local/lib/python3.11/dist-packages (from spacy) (1.1.3)\n",
            "Requirement already satisfied: srsly<3.0.0,>=2.4.3 in /usr/local/lib/python3.11/dist-packages (from spacy) (2.5.1)\n",
            "Requirement already satisfied: catalogue<2.1.0,>=2.0.6 in /usr/local/lib/python3.11/dist-packages (from spacy) (2.0.10)\n",
            "Requirement already satisfied: weasel<0.5.0,>=0.1.0 in /usr/local/lib/python3.11/dist-packages (from spacy) (0.4.1)\n",
            "Requirement already satisfied: typer<1.0.0,>=0.3.0 in /usr/local/lib/python3.11/dist-packages (from spacy) (0.16.0)\n",
            "Requirement already satisfied: tqdm<5.0.0,>=4.38.0 in /usr/local/lib/python3.11/dist-packages (from spacy) (4.67.1)\n",
            "Requirement already satisfied: numpy>=1.19.0 in /usr/local/lib/python3.11/dist-packages (from spacy) (2.0.2)\n",
            "Requirement already satisfied: requests<3.0.0,>=2.13.0 in /usr/local/lib/python3.11/dist-packages (from spacy) (2.32.3)\n",
            "Requirement already satisfied: pydantic!=1.8,!=1.8.1,<3.0.0,>=1.7.4 in /usr/local/lib/python3.11/dist-packages (from spacy) (2.11.7)\n",
            "Requirement already satisfied: jinja2 in /usr/local/lib/python3.11/dist-packages (from spacy) (3.1.6)\n",
            "Requirement already satisfied: setuptools in /usr/local/lib/python3.11/dist-packages (from spacy) (75.2.0)\n",
            "Requirement already satisfied: packaging>=20.0 in /usr/local/lib/python3.11/dist-packages (from spacy) (24.2)\n",
            "Requirement already satisfied: langcodes<4.0.0,>=3.2.0 in /usr/local/lib/python3.11/dist-packages (from spacy) (3.5.0)\n",
            "Requirement already satisfied: language-data>=1.2 in /usr/local/lib/python3.11/dist-packages (from langcodes<4.0.0,>=3.2.0->spacy) (1.3.0)\n",
            "Requirement already satisfied: annotated-types>=0.6.0 in /usr/local/lib/python3.11/dist-packages (from pydantic!=1.8,!=1.8.1,<3.0.0,>=1.7.4->spacy) (0.7.0)\n",
            "Requirement already satisfied: pydantic-core==2.33.2 in /usr/local/lib/python3.11/dist-packages (from pydantic!=1.8,!=1.8.1,<3.0.0,>=1.7.4->spacy) (2.33.2)\n",
            "Requirement already satisfied: typing-extensions>=4.12.2 in /usr/local/lib/python3.11/dist-packages (from pydantic!=1.8,!=1.8.1,<3.0.0,>=1.7.4->spacy) (4.14.0)\n",
            "Requirement already satisfied: typing-inspection>=0.4.0 in /usr/local/lib/python3.11/dist-packages (from pydantic!=1.8,!=1.8.1,<3.0.0,>=1.7.4->spacy) (0.4.1)\n",
            "Requirement already satisfied: charset-normalizer<4,>=2 in /usr/local/lib/python3.11/dist-packages (from requests<3.0.0,>=2.13.0->spacy) (3.4.2)\n",
            "Requirement already satisfied: idna<4,>=2.5 in /usr/local/lib/python3.11/dist-packages (from requests<3.0.0,>=2.13.0->spacy) (3.10)\n",
            "Requirement already satisfied: urllib3<3,>=1.21.1 in /usr/local/lib/python3.11/dist-packages (from requests<3.0.0,>=2.13.0->spacy) (2.4.0)\n",
            "Requirement already satisfied: certifi>=2017.4.17 in /usr/local/lib/python3.11/dist-packages (from requests<3.0.0,>=2.13.0->spacy) (2025.6.15)\n",
            "Requirement already satisfied: blis<1.4.0,>=1.3.0 in /usr/local/lib/python3.11/dist-packages (from thinc<8.4.0,>=8.3.4->spacy) (1.3.0)\n",
            "Requirement already satisfied: confection<1.0.0,>=0.0.1 in /usr/local/lib/python3.11/dist-packages (from thinc<8.4.0,>=8.3.4->spacy) (0.1.5)\n",
            "Requirement already satisfied: click>=8.0.0 in /usr/local/lib/python3.11/dist-packages (from typer<1.0.0,>=0.3.0->spacy) (8.2.1)\n",
            "Requirement already satisfied: shellingham>=1.3.0 in /usr/local/lib/python3.11/dist-packages (from typer<1.0.0,>=0.3.0->spacy) (1.5.4)\n",
            "Requirement already satisfied: rich>=10.11.0 in /usr/local/lib/python3.11/dist-packages (from typer<1.0.0,>=0.3.0->spacy) (13.9.4)\n",
            "Requirement already satisfied: cloudpathlib<1.0.0,>=0.7.0 in /usr/local/lib/python3.11/dist-packages (from weasel<0.5.0,>=0.1.0->spacy) (0.21.1)\n",
            "Requirement already satisfied: smart-open<8.0.0,>=5.2.1 in /usr/local/lib/python3.11/dist-packages (from weasel<0.5.0,>=0.1.0->spacy) (7.1.0)\n",
            "Requirement already satisfied: MarkupSafe>=2.0 in /usr/local/lib/python3.11/dist-packages (from jinja2->spacy) (3.0.2)\n",
            "Requirement already satisfied: marisa-trie>=1.1.0 in /usr/local/lib/python3.11/dist-packages (from language-data>=1.2->langcodes<4.0.0,>=3.2.0->spacy) (1.2.1)\n",
            "Requirement already satisfied: markdown-it-py>=2.2.0 in /usr/local/lib/python3.11/dist-packages (from rich>=10.11.0->typer<1.0.0,>=0.3.0->spacy) (3.0.0)\n",
            "Requirement already satisfied: pygments<3.0.0,>=2.13.0 in /usr/local/lib/python3.11/dist-packages (from rich>=10.11.0->typer<1.0.0,>=0.3.0->spacy) (2.19.1)\n",
            "Requirement already satisfied: wrapt in /usr/local/lib/python3.11/dist-packages (from smart-open<8.0.0,>=5.2.1->weasel<0.5.0,>=0.1.0->spacy) (1.17.2)\n",
            "Requirement already satisfied: mdurl~=0.1 in /usr/local/lib/python3.11/dist-packages (from markdown-it-py>=2.2.0->rich>=10.11.0->typer<1.0.0,>=0.3.0->spacy) (0.1.2)\n",
            "Collecting en-core-web-sm==3.8.0\n",
            "  Downloading https://github.com/explosion/spacy-models/releases/download/en_core_web_sm-3.8.0/en_core_web_sm-3.8.0-py3-none-any.whl (12.8 MB)\n",
            "\u001b[2K     \u001b[90m━━━━━━━━━━━━━━━━━━━━━━━━━━━━━━━━━━━━━━━━\u001b[0m \u001b[32m12.8/12.8 MB\u001b[0m \u001b[31m79.2 MB/s\u001b[0m eta \u001b[36m0:00:00\u001b[0m\n",
            "\u001b[?25h\u001b[38;5;2m✔ Download and installation successful\u001b[0m\n",
            "You can now load the package via spacy.load('en_core_web_sm')\n",
            "\u001b[38;5;3m⚠ Restart to reload dependencies\u001b[0m\n",
            "If you are in a Jupyter or Colab notebook, you may need to restart Python in\n",
            "order to load all the package's dependencies. You can do this by selecting the\n",
            "'Restart kernel' or 'Restart runtime' option.\n",
            "Requirement already satisfied: pandas in /usr/local/lib/python3.11/dist-packages (2.2.2)\n",
            "Requirement already satisfied: numpy in /usr/local/lib/python3.11/dist-packages (2.0.2)\n",
            "Requirement already satisfied: matplotlib in /usr/local/lib/python3.11/dist-packages (3.10.0)\n",
            "Requirement already satisfied: seaborn in /usr/local/lib/python3.11/dist-packages (0.13.2)\n",
            "Requirement already satisfied: textblob in /usr/local/lib/python3.11/dist-packages (0.19.0)\n",
            "Requirement already satisfied: python-dateutil>=2.8.2 in /usr/local/lib/python3.11/dist-packages (from pandas) (2.9.0.post0)\n",
            "Requirement already satisfied: pytz>=2020.1 in /usr/local/lib/python3.11/dist-packages (from pandas) (2025.2)\n",
            "Requirement already satisfied: tzdata>=2022.7 in /usr/local/lib/python3.11/dist-packages (from pandas) (2025.2)\n",
            "Requirement already satisfied: contourpy>=1.0.1 in /usr/local/lib/python3.11/dist-packages (from matplotlib) (1.3.2)\n",
            "Requirement already satisfied: cycler>=0.10 in /usr/local/lib/python3.11/dist-packages (from matplotlib) (0.12.1)\n",
            "Requirement already satisfied: fonttools>=4.22.0 in /usr/local/lib/python3.11/dist-packages (from matplotlib) (4.58.4)\n",
            "Requirement already satisfied: kiwisolver>=1.3.1 in /usr/local/lib/python3.11/dist-packages (from matplotlib) (1.4.8)\n",
            "Requirement already satisfied: packaging>=20.0 in /usr/local/lib/python3.11/dist-packages (from matplotlib) (24.2)\n",
            "Requirement already satisfied: pillow>=8 in /usr/local/lib/python3.11/dist-packages (from matplotlib) (11.2.1)\n",
            "Requirement already satisfied: pyparsing>=2.3.1 in /usr/local/lib/python3.11/dist-packages (from matplotlib) (3.2.3)\n",
            "Requirement already satisfied: nltk>=3.9 in /usr/local/lib/python3.11/dist-packages (from textblob) (3.9.1)\n",
            "Requirement already satisfied: click in /usr/local/lib/python3.11/dist-packages (from nltk>=3.9->textblob) (8.2.1)\n",
            "Requirement already satisfied: joblib in /usr/local/lib/python3.11/dist-packages (from nltk>=3.9->textblob) (1.5.1)\n",
            "Requirement already satisfied: regex>=2021.8.3 in /usr/local/lib/python3.11/dist-packages (from nltk>=3.9->textblob) (2024.11.6)\n",
            "Requirement already satisfied: tqdm in /usr/local/lib/python3.11/dist-packages (from nltk>=3.9->textblob) (4.67.1)\n",
            "Requirement already satisfied: six>=1.5 in /usr/local/lib/python3.11/dist-packages (from python-dateutil>=2.8.2->pandas) (1.17.0)\n"
          ]
        }
      ],
      "source": [
        "# Install spaCy and download the English model\n",
        "!pip install spacy\n",
        "!python -m spacy download en_core_web_sm\n",
        "\n",
        "# Install additional libraries for data processing and visualization\n",
        "!pip install pandas numpy matplotlib seaborn textblob"
      ]
    },
    {
      "cell_type": "markdown",
      "source": [
        "Step 2: Import Libraries"
      ],
      "metadata": {
        "id": "OSASXMdvtRQH"
      }
    },
    {
      "cell_type": "code",
      "source": [
        "import spacy\n",
        "import pandas as pd\n",
        "import numpy as np\n",
        "import matplotlib.pyplot as plt\n",
        "import seaborn as sns\n",
        "from collections import Counter\n",
        "import re\n",
        "from textblob import TextBlob\n",
        "import warnings\n",
        "warnings.filterwarnings('ignore')\n",
        "\n",
        "# Load spaCy model\n",
        "nlp = spacy.load('en_core_web_sm')"
      ],
      "metadata": {
        "id": "JX7IjeWNlbp_"
      },
      "execution_count": null,
      "outputs": []
    },
    {
      "cell_type": "markdown",
      "source": [
        "Step 3: Load and Prepare Your Data( I have done so via the left pane in the file upload section)"
      ],
      "metadata": {
        "id": "5chIAInItbmY"
      }
    },
    {
      "cell_type": "code",
      "source": [
        "# Replace 'train_file.csv' and 'test_file.csv' with your actual file names\n",
        "# The file format is likely tab-separated, with the label at the beginning.\n",
        "# Explicitly define column names to avoid issues with the parser.\n",
        "train_data = pd.read_csv('train.ft.txt', sep='\\t', header=None, names=['label', 'text'])\n",
        "test_data = pd.read_csv('test.ft.txt', sep='\\t', header=None, names=['label', 'text'])\n",
        "\n",
        "# Display basic information about the datasets\n",
        "print(\"Train data shape:\", train_data.shape)\n",
        "print(\"Test data shape:\", test_data.shape)\n",
        "print(\"\\nTrain data columns:\", train_data.columns.tolist())\n",
        "print(\"\\nFirst few rows of train data:\")\n",
        "print(train_data.head())"
      ],
      "metadata": {
        "colab": {
          "base_uri": "https://localhost:8080/"
        },
        "id": "qciG9pWjrO3q",
        "outputId": "6dc4312a-775f-4dcf-f179-b22adbe7df2d"
      },
      "execution_count": null,
      "outputs": [
        {
          "output_type": "stream",
          "name": "stdout",
          "text": [
            "Train data shape: (2554141, 2)\n",
            "Test data shape: (128390, 2)\n",
            "\n",
            "Train data columns: ['label', 'text']\n",
            "\n",
            "First few rows of train data:\n",
            "                                               label  text\n",
            "0  king the antagonists of the film Neo-Nazis see...   NaN\n",
            "1  __label__1 Ben Affleck has a range of expressi...   NaN\n",
            "2  __label__2 The Sum of a Good Movie: The Sum of...   NaN\n",
            "3  __label__1 Read the book instead: Nobody write...   NaN\n",
            "4  __label__2 If you love Jack Ryan: The only rea...   NaN\n"
          ]
        }
      ]
    },
    {
      "cell_type": "markdown",
      "source": [
        "Step 4: Data Preprocessing"
      ],
      "metadata": {
        "id": "z3QJMmgatod5"
      }
    },
    {
      "cell_type": "code",
      "source": [
        "def preprocess_text(text):\n",
        "    \"\"\"\n",
        "    Clean and preprocess text data\n",
        "    \"\"\"\n",
        "    if pd.isna(text):\n",
        "        return \"\"\n",
        "\n",
        "    # Convert to string and lowercase\n",
        "    text = str(text).lower()\n",
        "\n",
        "    # Remove extra whitespaces\n",
        "    text = re.sub(r'\\s+', ' ', text)\n",
        "\n",
        "    # Remove special characters but keep basic punctuation\n",
        "    text = re.sub(r'[^\\w\\s.,!?-]', '', text)\n",
        "\n",
        "    return text.strip()\n",
        "\n",
        "# Assuming your review column is named 'review_text' or 'text'\n",
        "# Adjust the column name based on your actual data\n",
        "# Changed from 'review_text' to 'text'\n",
        "review_column = 'text'  # Change this to match your column name\n",
        "\n",
        "# Preprocess the text data\n",
        "train_data['cleaned_text'] = train_data[review_column].apply(preprocess_text)\n",
        "test_data['cleaned_text'] = test_data[review_column].apply(preprocess_text)\n",
        "\n",
        "print(\"Sample cleaned text:\")\n",
        "print(train_data['cleaned_text'].iloc[0][:200])"
      ],
      "metadata": {
        "colab": {
          "base_uri": "https://localhost:8080/"
        },
        "id": "Ojxfw2hOrvuW",
        "outputId": "66b456cd-3881-44a5-d235-218ca277ba82"
      },
      "execution_count": null,
      "outputs": [
        {
          "output_type": "stream",
          "name": "stdout",
          "text": [
            "Sample cleaned text:\n",
            "\n"
          ]
        }
      ]
    },
    {
      "cell_type": "markdown",
      "source": [
        "Step 5: Named Entity Recognition (NER) Implementation"
      ],
      "metadata": {
        "id": "kFRKkotnttYX"
      }
    },
    {
      "cell_type": "code",
      "source": [
        "def extract_entities(text, nlp_model):\n",
        "    \"\"\"\n",
        "    Extract named entities from text using spaCy\n",
        "    \"\"\"\n",
        "    doc = nlp_model(text)\n",
        "    entities = {\n",
        "        'PERSON': [],\n",
        "        'ORG': [],           # Organizations (brands)\n",
        "        'PRODUCT': [],       # Products\n",
        "        'MONEY': [],         # Money/prices\n",
        "        'DATE': [],          # Dates\n",
        "        'GPE': []           # Countries, cities, states\n",
        "    }\n",
        "\n",
        "    for ent in doc.ents:\n",
        "        if ent.label_ in entities:\n",
        "            entities[ent.label_].append(ent.text)\n",
        "\n",
        "    return entities\n",
        "\n",
        "def extract_product_brands(text, nlp_model):\n",
        "    \"\"\"\n",
        "    Extract potential product names and brands using custom rules\n",
        "    \"\"\"\n",
        "    doc = nlp_model(text)\n",
        "\n",
        "    # Common brand/product indicators\n",
        "    brand_indicators = ['brand', 'product', 'item', 'device', 'phone', 'laptop', 'tablet']\n",
        "    product_entities = []\n",
        "    brand_entities = []\n",
        "\n",
        "    # Extract organizations as potential brands\n",
        "    for ent in doc.ents:\n",
        "        if ent.label_ == 'ORG':\n",
        "            brand_entities.append(ent.text)\n",
        "        elif ent.label_ == 'PRODUCT':\n",
        "            product_entities.append(ent.text)\n",
        "\n",
        "    # Custom pattern matching for products\n",
        "    # Look for capitalized words that might be product names\n",
        "    for token in doc:\n",
        "        if token.pos_ == 'PROPN' and len(token.text) > 2:\n",
        "            if any(indicator in token.text.lower() for indicator in brand_indicators):\n",
        "                product_entities.append(token.text)\n",
        "\n",
        "    return {\n",
        "        'products': list(set(product_entities)),\n",
        "        'brands': list(set(brand_entities))\n",
        "    }"
      ],
      "metadata": {
        "id": "ZvxugQdzry64"
      },
      "execution_count": null,
      "outputs": []
    },
    {
      "cell_type": "code",
      "source": [
        "# Apply NER to a sample of data (first 100 reviews for demonstration)\n",
        "sample_size = min(100, len(train_data))\n",
        "ner_results = []\n",
        "\n",
        "print(\"Extracting entities from reviews...\")\n",
        "for i in range(sample_size):\n",
        "    text = train_data['cleaned_text'].iloc[i]\n",
        "    entities = extract_entities(text, nlp)\n",
        "    product_brands = extract_product_brands(text, nlp)\n",
        "\n",
        "    ner_results.append({\n",
        "        'review_index': i,\n",
        "        'entities': entities,\n",
        "        'products': product_brands['products'],\n",
        "        'brands': product_brands['brands']\n",
        "    })\n",
        "\n",
        "print(f\"Processed {sample_size} reviews for NER analysis\")"
      ],
      "metadata": {
        "colab": {
          "base_uri": "https://localhost:8080/"
        },
        "id": "j5a-UOmrr57Q",
        "outputId": "b416fa66-fdb8-4538-b047-f505ddb64b91"
      },
      "execution_count": null,
      "outputs": [
        {
          "output_type": "stream",
          "name": "stdout",
          "text": [
            "Extracting entities from reviews...\n",
            "Processed 100 reviews for NER analysis\n"
          ]
        }
      ]
    },
    {
      "cell_type": "markdown",
      "source": [
        "Step 6: Sentiment Analysis Implementation"
      ],
      "metadata": {
        "id": "Dyqx-g3ht4MU"
      }
    },
    {
      "cell_type": "code",
      "source": [
        "def rule_based_sentiment(text):\n",
        "    \"\"\"\n",
        "    Rule-based sentiment analysis using TextBlob and custom rules\n",
        "    \"\"\"\n",
        "    # Use TextBlob for basic sentiment\n",
        "    blob = TextBlob(text)\n",
        "    polarity = blob.sentiment.polarity\n",
        "\n",
        "    # Define positive and negative words\n",
        "    positive_words = ['good', 'great', 'excellent', 'amazing', 'love', 'perfect',\n",
        "                      'awesome', 'fantastic', 'wonderful', 'best', 'nice', 'happy',\n",
        "                      'satisfied', 'recommend', 'quality', 'fast', 'easy']\n",
        "\n",
        "    negative_words = ['bad', 'terrible', 'awful', 'hate', 'worst', 'horrible',\n",
        "                      'disappointed', 'poor', 'cheap', 'slow', 'difficult',\n",
        "                      'broken', 'defective', 'useless', 'waste', 'regret']\n",
        "\n",
        "    # Count positive and negative words\n",
        "    text_lower = text.lower()\n",
        "    pos_count = sum(1 for word in positive_words if word in text_lower)\n",
        "    neg_count = sum(1 for word in negative_words if word in text_lower)\n",
        "\n",
        "    # Combine TextBlob polarity with rule-based approach\n",
        "    if polarity > 0.1 or pos_count > neg_count:\n",
        "        sentiment = 'positive'\n",
        "        confidence = abs(polarity) + (pos_count * 0.1)\n",
        "    elif polarity < -0.1 or neg_count > pos_count:\n",
        "        sentiment = 'negative'\n",
        "        confidence = abs(polarity) + (neg_count * 0.1)\n",
        "    else:\n",
        "        sentiment = 'neutral'\n",
        "        confidence = 0.5\n",
        "\n",
        "    return {\n",
        "        'sentiment': sentiment,\n",
        "        'polarity': polarity,\n",
        "        'confidence': min(confidence, 1.0),\n",
        "        'positive_words': pos_count,\n",
        "        'negative_words': neg_count\n",
        "    }\n",
        "\n",
        "# Apply sentiment analysis\n",
        "print(\"Performing sentiment analysis...\")\n",
        "sentiment_results = []\n",
        "\n",
        "for i in range(sample_size):\n",
        "    text = train_data['cleaned_text'].iloc[i]\n",
        "    sentiment = rule_based_sentiment(text)\n",
        "    sentiment_results.append({\n",
        "        'review_index': i,\n",
        "        'sentiment': sentiment['sentiment'],\n",
        "        'polarity': sentiment['polarity'],\n",
        "        'confidence': sentiment['confidence'],\n",
        "        'positive_words': sentiment['positive_words'],\n",
        "        'negative_words': sentiment['negative_words']\n",
        "    })\n",
        "\n",
        "print(f\"Completed sentiment analysis for {sample_size} reviews\")"
      ],
      "metadata": {
        "colab": {
          "base_uri": "https://localhost:8080/"
        },
        "id": "n4dfJe00sP_Y",
        "outputId": "912d2ed5-4ecb-4352-b028-85515854486e"
      },
      "execution_count": null,
      "outputs": [
        {
          "output_type": "stream",
          "name": "stdout",
          "text": [
            "Performing sentiment analysis...\n",
            "Completed sentiment analysis for 100 reviews\n"
          ]
        }
      ]
    },
    {
      "cell_type": "markdown",
      "source": [
        "Step 7: Results Analysis and Visualization"
      ],
      "metadata": {
        "id": "rz4vjZ02t91t"
      }
    },
    {
      "cell_type": "code",
      "source": [
        "# Combine results into a comprehensive dataframe\n",
        "results_df = pd.DataFrame()\n",
        "\n",
        "for i in range(sample_size):\n",
        "    # Ensure the original text is treated as a string before slicing\n",
        "    original_text_val = str(train_data[review_column].iloc[i])\n",
        "    cleaned_text_val = str(train_data['cleaned_text'].iloc[i])\n",
        "\n",
        "    row = {\n",
        "        'review_index': i,\n",
        "        'original_text': original_text_val[:100] + '...',\n",
        "        'cleaned_text': cleaned_text_val[:100] + '...',\n",
        "        'sentiment': sentiment_results[i]['sentiment'],\n",
        "        'polarity': sentiment_results[i]['polarity'],\n",
        "        'confidence': sentiment_results[i]['confidence'],\n",
        "        'num_products': len(ner_results[i]['products']),\n",
        "        'num_brands': len(ner_results[i]['brands']),\n",
        "        'products': ', '.join(ner_results[i]['products'][:3]),  # Show first 3\n",
        "        'brands': ', '.join(ner_results[i]['brands'][:3])       # Show first 3\n",
        "    }\n",
        "    results_df = pd.concat([results_df, pd.DataFrame([row])], ignore_index=True)\n",
        "\n",
        "# Display results\n",
        "print(\"=== SAMPLE RESULTS ===\")\n",
        "print(results_df[['review_index', 'sentiment', 'polarity', 'products', 'brands']].head(10))"
      ],
      "metadata": {
        "colab": {
          "base_uri": "https://localhost:8080/"
        },
        "id": "2bTpaYclsrom",
        "outputId": "6c660fd3-8911-496a-8dc8-36f55fc4cf31"
      },
      "execution_count": null,
      "outputs": [
        {
          "output_type": "stream",
          "name": "stdout",
          "text": [
            "=== SAMPLE RESULTS ===\n",
            "   review_index sentiment  polarity products brands\n",
            "0             0   neutral       0.0                \n",
            "1             1   neutral       0.0                \n",
            "2             2   neutral       0.0                \n",
            "3             3   neutral       0.0                \n",
            "4             4   neutral       0.0                \n",
            "5             5   neutral       0.0                \n",
            "6             6   neutral       0.0                \n",
            "7             7   neutral       0.0                \n",
            "8             8   neutral       0.0                \n",
            "9             9   neutral       0.0                \n"
          ]
        }
      ]
    },
    {
      "cell_type": "markdown",
      "source": [
        "Step 8: Statistical Analysis and Visualization"
      ],
      "metadata": {
        "id": "xS8uG72guBw_"
      }
    },
    {
      "cell_type": "code",
      "source": [
        "# Sentiment distribution\n",
        "plt.figure(figsize=(15, 5))\n",
        "\n",
        "plt.subplot(1, 3, 1)\n",
        "sentiment_counts = results_df['sentiment'].value_counts()\n",
        "plt.pie(sentiment_counts.values, labels=sentiment_counts.index, autopct='%1.1f%%')\n",
        "plt.title('Sentiment Distribution')\n",
        "\n",
        "plt.subplot(1, 3, 2)\n",
        "plt.hist(results_df['polarity'], bins=20, alpha=0.7, edgecolor='black')\n",
        "plt.xlabel('Polarity Score')\n",
        "plt.ylabel('Frequency')\n",
        "plt.title('Polarity Score Distribution')\n",
        "\n",
        "plt.subplot(1, 3, 3)\n",
        "plt.hist(results_df['confidence'], bins=20, alpha=0.7, edgecolor='black')\n",
        "plt.xlabel('Confidence Score')\n",
        "plt.ylabel('Frequency')\n",
        "plt.title('Confidence Score Distribution')\n",
        "\n",
        "plt.tight_layout()\n",
        "plt.show()\n",
        "\n",
        "# Entity statistics\n",
        "print(\"\\n=== ENTITY EXTRACTION STATISTICS ===\")\n",
        "all_products = []\n",
        "all_brands = []\n",
        "\n",
        "for result in ner_results:\n",
        "    all_products.extend(result['products'])\n",
        "    all_brands.extend(result['brands'])\n",
        "\n",
        "print(f\"Total unique products found: {len(set(all_products))}\")\n",
        "print(f\"Total unique brands found: {len(set(all_brands))}\")\n",
        "\n",
        "# Most common products and brands\n",
        "if all_products:\n",
        "    product_counter = Counter(all_products)\n",
        "    print(\"\\nTop 10 Most Mentioned Products:\")\n",
        "    for product, count in product_counter.most_common(10):\n",
        "        print(f\"  {product}: {count}\")\n",
        "\n",
        "if all_brands:\n",
        "    brand_counter = Counter(all_brands)\n",
        "    print(\"\\nTop 10 Most Mentioned Brands:\")\n",
        "    for brand, count in brand_counter.most_common(10):\n",
        "        print(f\"  {brand}: {count}\")"
      ],
      "metadata": {
        "colab": {
          "base_uri": "https://localhost:8080/",
          "height": 310
        },
        "id": "5DDxBF6sstxK",
        "outputId": "2e313b05-2db9-4bdb-d5e0-30f796058c4a"
      },
      "execution_count": null,
      "outputs": [
        {
          "output_type": "display_data",
          "data": {
            "text/plain": [
              "<Figure size 1500x500 with 3 Axes>"
            ],
            "image/png": "[encoded data removed]"
          },
          "metadata": {}
        },
        {
          "output_type": "stream",
          "name": "stdout",
          "text": [
            "\n",
            "=== ENTITY EXTRACTION STATISTICS ===\n",
            "Total unique products found: 0\n",
            "Total unique brands found: 0\n"
          ]
        }
      ]
    },
    {
      "cell_type": "markdown",
      "source": [
        "Step 9: Detailed Output Examples"
      ],
      "metadata": {
        "id": "C1YvXKgsuGPe"
      }
    },
    {
      "cell_type": "code",
      "source": [
        "# Show detailed analysis for first 5 reviews\n",
        "print(\"\\n=== DETAILED ANALYSIS EXAMPLES ===\")\n",
        "\n",
        "for i in range(min(5, sample_size)):\n",
        "    print(f\"\\n--- Review {i+1} ---\")\n",
        "\n",
        "    # Get the original text value\n",
        "    original_text_val = train_data[review_column].iloc[i]\n",
        "\n",
        "    # Check if it's a string before slicing, otherwise use a placeholder\n",
        "    if isinstance(original_text_val, str):\n",
        "        display_text = original_text_val[:200] + '...'\n",
        "    else:\n",
        "        display_text = f\"Non-string data ({type(original_text_val).__name__})...\" # Or handle as needed\n",
        "\n",
        "    print(f\"Text: {display_text}\")\n",
        "\n",
        "    print(f\"Sentiment: {sentiment_results[i]['sentiment']} (Polarity: {sentiment_results[i]['polarity']:.2f})\")\n",
        "    print(f\"Products found: {ner_results[i]['products']}\")\n",
        "    print(f\"Brands found: {ner_results[i]['brands']}\")\n",
        "\n",
        "    # Show all entities\n",
        "    entities = ner_results[i]['entities']\n",
        "    for ent_type, ent_list in entities.items():\n",
        "        if ent_list:\n",
        "            print(f\"{ent_type}: {ent_list}\")\n",
        "    print(\"-\" * 50)"
      ],
      "metadata": {
        "colab": {
          "base_uri": "https://localhost:8080/"
        },
        "id": "bvs_Evvbs-zl",
        "outputId": "2c70e895-99f0-4951-c91c-f50238a557ec"
      },
      "execution_count": null,
      "outputs": [
        {
          "output_type": "stream",
          "name": "stdout",
          "text": [
            "\n",
            "=== DETAILED ANALYSIS EXAMPLES ===\n",
            "\n",
            "--- Review 1 ---\n",
            "Text: Non-string data (float64)...\n",
            "Sentiment: neutral (Polarity: 0.00)\n",
            "Products found: []\n",
            "Brands found: []\n",
            "--------------------------------------------------\n",
            "\n",
            "--- Review 2 ---\n",
            "Text: Non-string data (float64)...\n",
            "Sentiment: neutral (Polarity: 0.00)\n",
            "Products found: []\n",
            "Brands found: []\n",
            "--------------------------------------------------\n",
            "\n",
            "--- Review 3 ---\n",
            "Text: Non-string data (float64)...\n",
            "Sentiment: neutral (Polarity: 0.00)\n",
            "Products found: []\n",
            "Brands found: []\n",
            "--------------------------------------------------\n",
            "\n",
            "--- Review 4 ---\n",
            "Text: Non-string data (float64)...\n",
            "Sentiment: neutral (Polarity: 0.00)\n",
            "Products found: []\n",
            "Brands found: []\n",
            "--------------------------------------------------\n",
            "\n",
            "--- Review 5 ---\n",
            "Text: Non-string data (float64)...\n",
            "Sentiment: neutral (Polarity: 0.00)\n",
            "Products found: []\n",
            "Brands found: []\n",
            "--------------------------------------------------\n"
          ]
        }
      ]
    },
    {
      "cell_type": "markdown",
      "source": [
        "Step 10: Save Results"
      ],
      "metadata": {
        "id": "Nu-ybxNPuRGD"
      }
    },
    {
      "cell_type": "code",
      "source": [
        "# Save results to CSV\n",
        "results_df.to_csv('nlp_analysis_results.csv', index=False)\n",
        "\n",
        "# Create a summary report\n",
        "summary = {\n",
        "    'total_reviews_analyzed': sample_size,\n",
        "    'sentiment_distribution': dict(sentiment_counts),\n",
        "    'average_polarity': results_df['polarity'].mean(),\n",
        "    'unique_products_found': len(set(all_products)),\n",
        "    'unique_brands_found': len(set(all_brands)),\n",
        "    'top_products': dict(product_counter.most_common(5)) if all_products else {},\n",
        "    'top_brands': dict(brand_counter.most_common(5)) if all_brands else {}\n",
        "}\n",
        "\n",
        "print(\"\\n=== FINAL SUMMARY ===\")\n",
        "for key, value in summary.items():\n",
        "    print(f\"{key}: {value}\")\n",
        "\n",
        "# Download the results file\n",
        "files.download('nlp_analysis_results.csv')"
      ],
      "metadata": {
        "colab": {
          "base_uri": "https://localhost:8080/",
          "height": 183
        },
        "id": "SrWMC_7etEbI",
        "outputId": "23d3be12-275e-4002-d837-a609c1e14eac"
      },
      "execution_count": null,
      "outputs": [
        {
          "output_type": "stream",
          "name": "stdout",
          "text": [
            "\n",
            "=== FINAL SUMMARY ===\n",
            "total_reviews_analyzed: 100\n",
            "sentiment_distribution: {'neutral': np.int64(100)}\n",
            "average_polarity: 0.0\n",
            "unique_products_found: 0\n",
            "unique_brands_found: 0\n",
            "top_products: {}\n",
            "top_brands: {}\n"
          ]
        },
        {
          "output_type": "display_data",
          "data": {
            "text/plain": [
              "<IPython.core.display.Javascript object>"
            ],
            "application/javascript": [
              "\n",
              "    async function download(id, filename, size) {\n",
              "      if (!google.colab.kernel.accessAllowed) {\n",
              "        return;\n",
              "      }\n",
              "      const div = document.createElement('div');\n",
              "      const label = document.createElement('label');\n",
              "      label.textContent = `Downloading \"${filename}\": `;\n",
              "      div.appendChild(label);\n",
              "      const progress = document.createElement('progress');\n",
              "      progress.max = size;\n",
              "      div.appendChild(progress);\n",
              "      document.body.appendChild(div);\n",
              "\n",
              "      const buffers = [];\n",
              "      let downloaded = 0;\n",
              "\n",
              "      const channel = await google.colab.kernel.comms.open(id);\n",
              "      // Send a message to notify the kernel that we're ready.\n",
              "      channel.send({})\n",
              "\n",
              "      for await (const message of channel.messages) {\n",
              "        // Send a message to notify the kernel that we're ready.\n",
              "        channel.send({})\n",
              "        if (message.buffers) {\n",
              "          for (const buffer of message.buffers) {\n",
              "            buffers.push(buffer);\n",
              "            downloaded += buffer.byteLength;\n",
              "            progress.value = downloaded;\n",
              "          }\n",
              "        }\n",
              "      }\n",
              "      const blob = new Blob(buffers, {type: 'application/binary'});\n",
              "      const a = document.createElement('a');\n",
              "      a.href = window.URL.createObjectURL(blob);\n",
              "      a.download = filename;\n",
              "      div.appendChild(a);\n",
              "      a.click();\n",
              "      div.remove();\n",
              "    }\n",
              "  "
            ]
          },
          "metadata": {}
        },
        {
          "output_type": "display_data",
          "data": {
            "text/plain": [
              "<IPython.core.display.Javascript object>"
            ],
            "application/javascript": [
              "download(\"download_d9959360-b6d6-4bab-942f-a7d00846f018\", \"nlp_analysis_results.csv\", 3700)"
            ]
          },
          "metadata": {}
        }
      ]
    }
  ]
}